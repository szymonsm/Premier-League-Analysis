{
 "cells": [
  {
   "cell_type": "code",
   "execution_count": 2,
   "metadata": {},
   "outputs": [],
   "source": [
    "import pandas as pd\n",
    "from sqlalchemy import create_engine\n",
    "import os\n",
    "import numpy as np"
   ]
  },
  {
   "cell_type": "code",
   "execution_count": null,
   "metadata": {},
   "outputs": [],
   "source": []
  },
  {
   "cell_type": "code",
   "execution_count": 2,
   "metadata": {},
   "outputs": [],
   "source": [
    "server = 'DESKTOP-CBA20L1' # this is the name of your server in SQL Server Management Studio\n",
    "database = 'PremierLeagueAnalysis_raw'\n",
    "db_connection_string = f'mssql+pyodbc://{server}/{database}?driver=ODBC+Driver+17+for+SQL+Server'\n",
    "engine = create_engine(db_connection_string)"
   ]
  },
  {
   "cell_type": "code",
   "execution_count": 4,
   "metadata": {},
   "outputs": [],
   "source": [
    "current_dir = os.getcwd()\n",
    "base_dir = os.path.dirname(os.path.dirname(current_dir))\n"
   ]
  },
  {
   "cell_type": "code",
   "execution_count": 4,
   "metadata": {},
   "outputs": [],
   "source": [
    "def insert_scores_fixtures(file_name, base_dir, engine):\n",
    "    file_path = os.path.join(base_dir, 'Data', file_name)\n",
    "    df =  pd.read_csv(file_path).rename(columns={\"xG\": \"HomeXG\",\"xG.1\": \"AwayXG\", \"Match Report\": \"MatchReport\"})\n",
    "    df[\"HomeScore\"] = df[\"Score\"].apply(lambda x: None if not isinstance(x,str) else x.split(\"–\")[0])\n",
    "    df[\"AwayScore\"] = df[\"Score\"].apply(lambda x: None if not isinstance(x,str) else x.split(\"–\")[1])\n",
    "    df[\"Time\"] = df[\"Time\"].str.split(\" \", expand = True)[0]\n",
    "    df[\"Attendance\"].fillna(0, inplace = True)\n",
    "    df.drop(columns = [\"MatchReport\", \"Notes\", \"Score\"], inplace = True)\n",
    "    df.to_sql('Matches', engine, if_exists='append', index=False)\n",
    "    "
   ]
  },
  {
   "cell_type": "code",
   "execution_count": 5,
   "metadata": {},
   "outputs": [],
   "source": [
    "score_fixtures_names = [\"scores-fixtures-19-20.csv\", \"scores-fixtures-20-21.csv\", \"scores-fixtures-21-22.csv\", \"scores-fixtures-22-23.csv\"]"
   ]
  },
  {
   "cell_type": "code",
   "execution_count": 6,
   "metadata": {},
   "outputs": [],
   "source": [
    "for file_name in score_fixtures_names:\n",
    "    insert_scores_fixtures(file_name, base_dir, engine)"
   ]
  },
  {
   "cell_type": "code",
   "execution_count": 7,
   "metadata": {},
   "outputs": [],
   "source": [
    "def insert_betting_odds(file_name, base_dir, engine):\n",
    "    file_path = os.path.join(base_dir, 'Data', file_name)\n",
    "    df = pd.read_csv(file_path).drop(columns = [\"Div\"])\n",
    "    df.rename(columns={\n",
    "        \"B365>2.5\" :  \"B365_Over25\",\n",
    "        \"B365<2.5\" :  \"B365_Under25\",\n",
    "        \"P>2.5\" :  \"P_Over25\",\n",
    "        \"P<2.5\" :  \"P_Under25\",\n",
    "        \"Max>2.5\" :  \"Max_Over25\",\n",
    "        \"Max<2.5\" :  \"Max_Under25\",\n",
    "        \"Avg>2.5\" :  \"Avg_Over25\",\n",
    "        \"Avg<2.5\" :  \"Avg_Under25\",\n",
    "        \"B365C>2.5\" : \"B365C_Over25\",\n",
    "        \"B365C<2.5\" : \"B365C_Under25\",\n",
    "        \"PC>2.5\" : \"PC_Over25\",\n",
    "        \"PC<2.5\" : \"PC_Under25\",\n",
    "        \"MaxC>2.5\" : \"MaxC_Over25\",\n",
    "        \"MaxC<2.5\" : \"MaxC_Under25\",\n",
    "        \"AvgC>2.5\" : \"AvgC_Over25\",\n",
    "        \"AvgC<2.5\" : \"AvgC_Under25\", \n",
    "    },inplace=True)\n",
    "    df[\"Date\"] = pd.to_datetime(df[\"Date\"], format='%d/%m/%Y')\n",
    "    df.to_sql('BettingOdds', engine, if_exists='append', index=False)"
   ]
  },
  {
   "cell_type": "code",
   "execution_count": 8,
   "metadata": {},
   "outputs": [],
   "source": [
    "betting_odds_names = [\"betting-odds-19-20.csv\", \"betting-odds-20-21.csv\", \"betting-odds-21-22.csv\", \"betting-odds-22-23.csv\"]"
   ]
  },
  {
   "cell_type": "code",
   "execution_count": 9,
   "metadata": {},
   "outputs": [],
   "source": [
    "for file_name in betting_odds_names:\n",
    "    insert_betting_odds(file_name, base_dir, engine)"
   ]
  },
  {
   "cell_type": "code",
   "execution_count": 10,
   "metadata": {},
   "outputs": [],
   "source": [
    "def insert_fantasy_fixtures(season, base_dir, engine):\n",
    "    teams_file_path = os.path.join(base_dir, 'Data', f'fantasy-teams-{season}.csv')\n",
    "    teams = pd.read_csv(teams_file_path)[[\"id\",\"name\",\"short_name\"]]\n",
    "    \n",
    "    fixtures_file_path = os.path.join(base_dir, 'Data', f'fantasy-fixtures-{season}.csv')\n",
    "    fixtures = pd.read_csv(fixtures_file_path)[[\"kickoff_time\",\"team_h\",\"team_a\",\"team_h_difficulty\",\"team_a_difficulty\"]]\n",
    "    fixtures[\"Date\"] = pd.to_datetime(fixtures[\"kickoff_time\"], format='%Y-%m-%dT%H:%M:%SZ').dt.date\n",
    "    \n",
    "\n",
    "    fixtures = fixtures.merge(teams, left_on = \"team_h\", right_on = \"id\", how = \"left\").drop(columns = [\"id\",\"team_h\"]).rename(columns = {\"name\":\"HomeTeamName\",\"short_name\":\"HomeTeamShortName\"})\n",
    "    fixtures = fixtures.merge(teams, left_on = \"team_a\", right_on = \"id\", how = \"left\").drop(columns = [\"id\",\"team_a\"]).rename(columns = {\"name\":\"AwayTeamName\",\"short_name\":\"AwayTeamShortName\"})\n",
    "    fixtures = fixtures[[\"Date\",\"HomeTeamName\",\"HomeTeamShortName\",\"AwayTeamName\",\"AwayTeamShortName\",\"team_h_difficulty\",\"team_a_difficulty\"]].rename(columns = {\"team_h_difficulty\":\"HomeTeamDifficulty\",\"team_a_difficulty\":\"AwayTeamDifficulty\"})\n",
    "    fixtures.to_sql('FantasyFixtures', engine, if_exists='append', index=False)"
   ]
  },
  {
   "cell_type": "code",
   "execution_count": 11,
   "metadata": {},
   "outputs": [],
   "source": [
    "seasons = [\"19-20\", \"20-21\", \"21-22\", \"22-23\"]"
   ]
  },
  {
   "cell_type": "code",
   "execution_count": 12,
   "metadata": {},
   "outputs": [],
   "source": [
    "for season in seasons:\n",
    "    insert_fantasy_fixtures(season, base_dir, engine)"
   ]
  },
  {
   "attachments": {},
   "cell_type": "markdown",
   "metadata": {},
   "source": [
    "---\n",
    "team dict\n"
   ]
  },
  {
   "cell_type": "code",
   "execution_count": 13,
   "metadata": {},
   "outputs": [],
   "source": [
    "def create_teams_dict(season_list, base_dir, engine):\n",
    "    teams_dfs = []\n",
    "    # fantasy premier league team names\n",
    "    for season in season_list:\n",
    "        teams_file_path = os.path.join(base_dir, 'Data', f'fantasy-teams-{season}.csv')\n",
    "        teams_season = pd.read_csv(teams_file_path)[[\"id\",\"name\",\"short_name\"]]\n",
    "        teams_dfs.append(teams_season)\n",
    "    teams = (pd.concat(teams_dfs)[[\"short_name\",\"name\"]]\n",
    "             .drop_duplicates()\n",
    "             .sort_values(by = \"name\")\n",
    "             .reset_index(drop = True))\n",
    "    \n",
    "    # bettingodds team names\n",
    "    team_list = []\n",
    "    for season in season_list:\n",
    "        file_path = os.path.join(base_dir, 'Data', f'betting-odds-{season}.csv')\n",
    "        season_unique_teams = (pd.read_csv(file_path)\n",
    "                .HomeTeam.unique())\n",
    "        team_list.append(season_unique_teams)\n",
    "    betting_teams = pd.Series(pd.Series(np.array(team_list).flatten()).unique()).sort_values().reset_index(drop = True)\n",
    "    teams = (pd.concat([teams,betting_teams],axis=1)\n",
    "             .rename(columns = {\"short_name\":\"ShortName\", 0: \"BettingOddsTeamName\"}))\n",
    "    \n",
    "    # matches team names\n",
    "    team_list = []\n",
    "    for season in season_list:\n",
    "        file_path = os.path.join(base_dir, 'Data', f'scores-fixtures-{season}.csv')\n",
    "        season_unique_teams = (pd.read_csv(file_path)\n",
    "                            .Home.unique())\n",
    "        team_list.append(season_unique_teams)\n",
    "    matches_teams =  pd.Series(pd.Series(np.array(team_list).flatten()).unique()).sort_values().reset_index(drop = True)\n",
    "    teams = (pd.concat([teams,matches_teams],axis=1)\n",
    "             .rename(columns = {0:\"MatchesTeamName\"})\n",
    "             .drop(columns = [\"name\"]))\n",
    "\n",
    "    # wikipedia info\n",
    "    wiki_data = pd.read_html('https://en.wikipedia.org/wiki/List_of_Premier_League_stadiums')[0]\n",
    "    wiki_data = wiki_data.loc[wiki_data[\"Closed\"].isna(), [\"Stadium\",\"Location\",\"Club\",\"Capacity\",\"Coordinates\"]] \n",
    "    wiki_data.loc[wiki_data[\"Stadium\"]=='Anfield',\"Coordinates\"] = \"53°25′51″N 002°57′39″W / 53.43083°N 2.96083°W\"\n",
    "    wiki_data.loc[wiki_data[\"Club\"]==\"Manchester United\",\"Club\"] = \"Manchester Utd\"\n",
    "    wiki_data.loc[wiki_data[\"Club\"]==\"Newcastle United\",\"Club\"] = \"Newcastle Utd\"\n",
    "    wiki_data.loc[wiki_data[\"Club\"]==\"Sheffield United\",\"Club\"] = \"Sheffield Utd\" \n",
    "    wiki_data.loc[wiki_data[\"Club\"]==\"Brighton & Hove Albion\",\"Club\"] = \"Brighton\"\n",
    "    wiki_data.loc[wiki_data[\"Club\"]==\"Crystal Palace & Wimbledon\",\"Club\"] = \"Crystal Palace\"\n",
    "    wiki_data.loc[wiki_data[\"Club\"]==\"Tottenham Hotspur\",\"Club\"] = \"Tottenham\"\n",
    "    wiki_data.loc[wiki_data[\"Club\"]==\"West Ham United\",\"Club\"] = \"West Ham\"\n",
    "    wiki_data.loc[wiki_data[\"Club\"]==\"West Bromwich Albion\",\"Club\"] = \"West Brom\"\n",
    "    wiki_data.loc[wiki_data[\"Club\"]==\"Nottingham Forest\",\"Club\"] = \"Nott'ham Forest\"\n",
    "    wiki_data.loc[wiki_data[\"Club\"]==\"Wolverhampton Wanderers\",\"Club\"] = \"Wolves\"\n",
    "    wiki_data = wiki_data[[\"Location\",\"Club\",\"Coordinates\"]].rename(columns = {\"Coordinates\":\"StadiumCoordinates\", \"Location\":\"StadiumLocation\"})\n",
    "\n",
    "    teams = (pd.merge(teams, wiki_data, left_on = \"MatchesTeamName\", right_on = \"Club\", how = \"left\")\n",
    "        .drop(columns = [\"Club\"])\n",
    "        .sort_values(by = \"ShortName\")\n",
    "        .reset_index(drop = True))\n",
    "\n",
    "    teams.to_sql('Teams', engine, if_exists='append', index=False)\n",
    "    \n",
    "    "
   ]
  },
  {
   "cell_type": "code",
   "execution_count": 14,
   "metadata": {},
   "outputs": [],
   "source": [
    "create_teams_dict(seasons, base_dir, engine)"
   ]
  },
  {
   "attachments": {},
   "cell_type": "markdown",
   "metadata": {},
   "source": [
    "---\n",
    "Fake data for testing"
   ]
  },
  {
   "cell_type": "code",
   "execution_count": 18,
   "metadata": {},
   "outputs": [],
   "source": [
    "betting_odds = pd.read_csv(os.path.join(base_dir, 'Data', 'betting-odds-23-24.csv'))\n",
    "betting_odds[\"Date\"] = pd.to_datetime(betting_odds[\"Date\"], format='%d/%m/%Y').dt.date + pd.DateOffset(years=3)\n",
    "betting_odds[\"Date\"] = betting_odds[\"Date\"].dt.strftime('%d/%m/%Y')\n",
    "betting_odds.to_csv(os.path.join(base_dir, 'Data', 'betting-odds-23-24.csv'), index = False)"
   ]
  },
  {
   "cell_type": "code",
   "execution_count": 35,
   "metadata": {},
   "outputs": [],
   "source": [
    "fantasy_fixtures = pd.read_csv(os.path.join(base_dir, 'Data', 'fantasy-fixtures-23-24.csv'))\n",
    "tmp = fantasy_fixtures[\"kickoff_time\"].str.split('-')\n",
    "new_dates = []\n",
    "for row in tmp:\n",
    "    new_year = '2023' if row[0] == '2020' else '2024'\n",
    "    new_row = [new_year, row[1], row[2]]\n",
    "    new_dates.append('-'.join(new_row))\n",
    "\n",
    "fantasy_fixtures[\"kickoff_time\"] = new_dates\n",
    "fantasy_fixtures.to_csv(os.path.join(base_dir, 'Data', 'fantasy-fixtures-23-24.csv'), index = False)\n"
   ]
  },
  {
   "cell_type": "code",
   "execution_count": 51,
   "metadata": {},
   "outputs": [],
   "source": [
    "scores_fixtures = pd.read_csv(os.path.join(base_dir, 'Data', 'scores-fixtures-23-24.csv'))\n",
    "scores_fixtures[\"Date\"] = scores_fixtures[\"Date\"].str.replace('2020', '2023').str.replace('2021', '2024')\n",
    "scores_fixtures.to_csv(os.path.join(base_dir, 'Data', 'scores-fixtures-23-24.csv'), index = False)"
   ]
  }
 ],
 "metadata": {
  "kernelspec": {
   "display_name": "hurtownia",
   "language": "python",
   "name": "python3"
  },
  "language_info": {
   "codemirror_mode": {
    "name": "ipython",
    "version": 3
   },
   "file_extension": ".py",
   "mimetype": "text/x-python",
   "name": "python",
   "nbconvert_exporter": "python",
   "pygments_lexer": "ipython3",
   "version": "3.11.3"
  },
  "orig_nbformat": 4
 },
 "nbformat": 4,
 "nbformat_minor": 2
}
