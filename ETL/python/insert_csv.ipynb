{
 "cells": [
  {
   "cell_type": "code",
   "execution_count": 1,
   "metadata": {},
   "outputs": [],
   "source": [
    "import pandas as pd\n",
    "from sqlalchemy import create_engine\n",
    "import os\n",
    "import numpy as np"
   ]
  },
  {
   "cell_type": "code",
   "execution_count": 2,
   "metadata": {},
   "outputs": [],
   "source": [
    "server = 'DESKTOP-CBA20L1' # this is the name of your server in SQL Server Management Studio\n",
    "database = 'PremierLeagueAnalysis_raw'\n",
    "db_connection_string = f'mssql+pyodbc://{server}/{database}?driver=ODBC+Driver+17+for+SQL+Server'\n",
    "engine = create_engine(db_connection_string)"
   ]
  },
  {
   "cell_type": "code",
   "execution_count": 3,
   "metadata": {},
   "outputs": [],
   "source": [
    "current_dir = os.getcwd()\n",
    "base_dir = os.path.dirname(os.path.dirname(current_dir))\n"
   ]
  },
  {
   "cell_type": "code",
   "execution_count": 4,
   "metadata": {},
   "outputs": [],
   "source": [
    "def insert_scores_fixtures(file_name, base_dir, engine):\n",
    "    file_path = os.path.join(base_dir, 'Data', file_name)\n",
    "    df =  pd.read_csv(file_path).rename(columns={\"xG\": \"HomeXG\",\"xG.1\": \"AwayXG\", \"Match Report\": \"MatchReport\"})\n",
    "    df[\"HomeScore\"] = df[\"Score\"].apply(lambda x: None if not isinstance(x,str) else x.split(\"–\")[0])\n",
    "    df[\"AwayScore\"] = df[\"Score\"].apply(lambda x: None if not isinstance(x,str) else x.split(\"–\")[1])\n",
    "    df[\"Time\"] = df[\"Time\"].str.split(\" \", expand = True)[0]\n",
    "    df[\"Attendance\"].fillna(0, inplace = True)\n",
    "    df.drop(columns = [\"MatchReport\", \"Notes\", \"Score\"], inplace = True)\n",
    "    df.to_sql('Matches', engine, if_exists='append', index=False)\n",
    "    "
   ]
  },
  {
   "cell_type": "code",
   "execution_count": 5,
   "metadata": {},
   "outputs": [],
   "source": [
    "score_fixtures_names = [\"scores-fixtures-19-20.csv\", \"scores-fixtures-20-21.csv\", \"scores-fixtures-21-22.csv\", \"scores-fixtures-22-23.csv\"]"
   ]
  },
  {
   "cell_type": "code",
   "execution_count": 6,
   "metadata": {},
   "outputs": [],
   "source": [
    "for file_name in score_fixtures_names:\n",
    "    insert_scores_fixtures(file_name, base_dir, engine)"
   ]
  },
  {
   "cell_type": "code",
   "execution_count": 7,
   "metadata": {},
   "outputs": [],
   "source": [
    "def insert_betting_odds(file_name, base_dir, engine):\n",
    "    file_path = os.path.join(base_dir, 'Data', file_name)\n",
    "    df = pd.read_csv(file_path).drop(columns = [\"Div\"])\n",
    "    df.rename(columns={\n",
    "        \"B365>2.5\" :  \"B365_Over25\",\n",
    "        \"B365<2.5\" :  \"B365_Under25\",\n",
    "        \"P>2.5\" :  \"P_Over25\",\n",
    "        \"P<2.5\" :  \"P_Under25\",\n",
    "        \"Max>2.5\" :  \"Max_Over25\",\n",
    "        \"Max<2.5\" :  \"Max_Under25\",\n",
    "        \"Avg>2.5\" :  \"Avg_Over25\",\n",
    "        \"Avg<2.5\" :  \"Avg_Under25\",\n",
    "        \"B365C>2.5\" : \"B365C_Over25\",\n",
    "        \"B365C<2.5\" : \"B365C_Under25\",\n",
    "        \"PC>2.5\" : \"PC_Over25\",\n",
    "        \"PC<2.5\" : \"PC_Under25\",\n",
    "        \"MaxC>2.5\" : \"MaxC_Over25\",\n",
    "        \"MaxC<2.5\" : \"MaxC_Under25\",\n",
    "        \"AvgC>2.5\" : \"AvgC_Over25\",\n",
    "        \"AvgC<2.5\" : \"AvgC_Under25\", \n",
    "    },inplace=True)\n",
    "    df[\"Date\"] = pd.to_datetime(df[\"Date\"], format='%d/%m/%Y')\n",
    "    df.to_sql('BettingOdds', engine, if_exists='append', index=False)"
   ]
  },
  {
   "cell_type": "code",
   "execution_count": 8,
   "metadata": {},
   "outputs": [],
   "source": [
    "betting_odds_names = [\"betting-odds-19-20.csv\", \"betting-odds-20-21.csv\", \"betting-odds-21-22.csv\", \"betting-odds-22-23.csv\"]"
   ]
  },
  {
   "cell_type": "code",
   "execution_count": 9,
   "metadata": {},
   "outputs": [],
   "source": [
    "for file_name in betting_odds_names:\n",
    "    insert_betting_odds(file_name, base_dir, engine)"
   ]
  },
  {
   "cell_type": "code",
   "execution_count": 10,
   "metadata": {},
   "outputs": [],
   "source": [
    "def insert_fantasy_fixtures(season, base_dir, engine):\n",
    "    teams_file_path = os.path.join(base_dir, 'Data', f'fantasy-teams-{season}.csv')\n",
    "    teams = pd.read_csv(teams_file_path)[[\"id\",\"name\",\"short_name\"]]\n",
    "    \n",
    "    fixtures_file_path = os.path.join(base_dir, 'Data', f'fantasy-fixtures-{season}.csv')\n",
    "    fixtures = pd.read_csv(fixtures_file_path)[[\"kickoff_time\",\"team_h\",\"team_a\",\"team_h_difficulty\",\"team_a_difficulty\"]]\n",
    "    fixtures[\"Date\"] = pd.to_datetime(fixtures[\"kickoff_time\"], format='%Y-%m-%dT%H:%M:%SZ').dt.date\n",
    "    \n",
    "\n",
    "    fixtures = fixtures.merge(teams, left_on = \"team_h\", right_on = \"id\", how = \"left\").drop(columns = [\"id\",\"team_h\"]).rename(columns = {\"name\":\"HomeTeamName\",\"short_name\":\"HomeTeamShortName\"})\n",
    "    fixtures = fixtures.merge(teams, left_on = \"team_a\", right_on = \"id\", how = \"left\").drop(columns = [\"id\",\"team_a\"]).rename(columns = {\"name\":\"AwayTeamName\",\"short_name\":\"AwayTeamShortName\"})\n",
    "    fixtures = fixtures[[\"Date\",\"HomeTeamName\",\"HomeTeamShortName\",\"AwayTeamName\",\"AwayTeamShortName\",\"team_h_difficulty\",\"team_a_difficulty\"]].rename(columns = {\"team_h_difficulty\":\"HomeTeamDifficulty\",\"team_a_difficulty\":\"AwayTeamDifficulty\"})\n",
    "    fixtures.to_sql('FantasyFixtures', engine, if_exists='append', index=False)"
   ]
  },
  {
   "cell_type": "code",
   "execution_count": 11,
   "metadata": {},
   "outputs": [],
   "source": [
    "seasons = [\"19-20\", \"20-21\", \"21-22\", \"22-23\"]"
   ]
  },
  {
   "cell_type": "code",
   "execution_count": 12,
   "metadata": {},
   "outputs": [],
   "source": [
    "for season in seasons:\n",
    "    insert_fantasy_fixtures(season, base_dir, engine)"
   ]
  }
 ],
 "metadata": {
  "kernelspec": {
   "display_name": "hurtownia",
   "language": "python",
   "name": "python3"
  },
  "language_info": {
   "codemirror_mode": {
    "name": "ipython",
    "version": 3
   },
   "file_extension": ".py",
   "mimetype": "text/x-python",
   "name": "python",
   "nbconvert_exporter": "python",
   "pygments_lexer": "ipython3",
   "version": "3.11.3"
  },
  "orig_nbformat": 4
 },
 "nbformat": 4,
 "nbformat_minor": 2
}
